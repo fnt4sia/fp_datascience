{
 "cells": [
  {
   "cell_type": "code",
   "execution_count": 7,
   "metadata": {
    "vscode": {
     "languageId": "plaintext"
    }
   },
   "outputs": [],
   "source": [
    "import pandas as pd\n",
    "import numpy as np"
   ]
  },
  {
   "cell_type": "code",
   "execution_count": 8,
   "metadata": {},
   "outputs": [
    {
     "data": {
      "text/html": [
       "<div>\n",
       "<style scoped>\n",
       "    .dataframe tbody tr th:only-of-type {\n",
       "        vertical-align: middle;\n",
       "    }\n",
       "\n",
       "    .dataframe tbody tr th {\n",
       "        vertical-align: top;\n",
       "    }\n",
       "\n",
       "    .dataframe thead th {\n",
       "        text-align: right;\n",
       "    }\n",
       "</style>\n",
       "<table border=\"1\" class=\"dataframe\">\n",
       "  <thead>\n",
       "    <tr style=\"text-align: right;\">\n",
       "      <th></th>\n",
       "      <th></th>\n",
       "      <th></th>\n",
       "      <th>system:index;CA;CB;CS;latitude;longitude;.geo</th>\n",
       "    </tr>\n",
       "  </thead>\n",
       "  <tbody>\n",
       "    <tr>\n",
       "      <th>0;50.765.053;12.045.225;6;-7.496.441.045.977.400;11.065.896.827.426.300;\"{\"\"geodesic\"\":false</th>\n",
       "      <th>type\"\":\"\"Point\"\"</th>\n",
       "      <th>coordinates\"\":[110.65896827426326</th>\n",
       "      <td>-7.496441045977408]}\"</td>\n",
       "    </tr>\n",
       "    <tr>\n",
       "      <th>1;46.980.125;11.828.725;5;-7.487.457.893.136.210;1.106.050.693.572.160;\"{\"\"geodesic\"\":false</th>\n",
       "      <th>type\"\":\"\"Point\"\"</th>\n",
       "      <th>coordinates\"\":[110.6050693572161</th>\n",
       "      <td>-7.487457893136212]}\"</td>\n",
       "    </tr>\n",
       "    <tr>\n",
       "      <th>2;463.192;11.608.475;5;-7.487.457.893.136.210;11.061.405.251.005.700;\"{\"\"geodesic\"\":false</th>\n",
       "      <th>type\"\":\"\"Point\"\"</th>\n",
       "      <th>coordinates\"\":[110.61405251005729</th>\n",
       "      <td>-7.487457893136212]}\"</td>\n",
       "    </tr>\n",
       "    <tr>\n",
       "      <th>3;35.962.925;88.882;5;-7.487.457.893.136.210;11.062.303.566.289.800;\"{\"\"geodesic\"\":false</th>\n",
       "      <th>type\"\":\"\"Point\"\"</th>\n",
       "      <th>coordinates\"\":[110.62303566289847</th>\n",
       "      <td>-7.487457893136212]}\"</td>\n",
       "    </tr>\n",
       "    <tr>\n",
       "      <th>4;33.521.976;831.685;5;-7.487.457.893.136.210;11.063.201.881.573.900;\"{\"\"geodesic\"\":false</th>\n",
       "      <th>type\"\":\"\"Point\"\"</th>\n",
       "      <th>coordinates\"\":[110.63201881573967</th>\n",
       "      <td>-7.487457893136212]}\"</td>\n",
       "    </tr>\n",
       "  </tbody>\n",
       "</table>\n",
       "</div>"
      ],
      "text/plain": [
       "                                                                                                      system:index;CA;CB;CS;latitude;longitude;.geo\n",
       "0;50.765.053;12.045.225;6;-7.496.441.045.977.40... type\"\":\"\"Point\"\" coordinates\"\":[110.65896827426326                         -7.496441045977408]}\"\n",
       "1;46.980.125;11.828.725;5;-7.487.457.893.136.21... type\"\":\"\"Point\"\" coordinates\"\":[110.6050693572161                          -7.487457893136212]}\"\n",
       "2;463.192;11.608.475;5;-7.487.457.893.136.210;1... type\"\":\"\"Point\"\" coordinates\"\":[110.61405251005729                         -7.487457893136212]}\"\n",
       "3;35.962.925;88.882;5;-7.487.457.893.136.210;11... type\"\":\"\"Point\"\" coordinates\"\":[110.62303566289847                         -7.487457893136212]}\"\n",
       "4;33.521.976;831.685;5;-7.487.457.893.136.210;1... type\"\":\"\"Point\"\" coordinates\"\":[110.63201881573967                         -7.487457893136212]}\""
      ]
     },
     "execution_count": 8,
     "metadata": {},
     "output_type": "execute_result"
    }
   ],
   "source": [
    "carbon_df = pd.read_csv('City_Carbon_Stock.csv', sep=';')\n",
    "carbon_df.head()"
   ]
  },
  {
   "cell_type": "code",
   "execution_count": null,
   "metadata": {},
   "outputs": [],
   "source": []
  }
 ],
 "metadata": {
  "kernelspec": {
   "display_name": "Python 3 (ipykernel)",
   "language": "python",
   "name": "python3"
  },
  "language_info": {
   "codemirror_mode": {
    "name": "ipython",
    "version": 3
   },
   "file_extension": ".py",
   "mimetype": "text/x-python",
   "name": "python",
   "nbconvert_exporter": "python",
   "pygments_lexer": "ipython3",
   "version": "3.12.2"
  }
 },
 "nbformat": 4,
 "nbformat_minor": 4
}
