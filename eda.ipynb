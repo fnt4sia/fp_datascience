{
 "cells": [
  {
   "cell_type": "code",
   "execution_count": 2,
   "metadata": {},
   "outputs": [],
   "source": [
    "import pandas as pd\n",
    "import numpy as np"
   ]
  },
  {
   "cell_type": "code",
   "execution_count": 5,
   "metadata": {},
   "outputs": [
    {
     "data": {
      "text/html": [
       "<div>\n",
       "<style scoped>\n",
       "    .dataframe tbody tr th:only-of-type {\n",
       "        vertical-align: middle;\n",
       "    }\n",
       "\n",
       "    .dataframe tbody tr th {\n",
       "        vertical-align: top;\n",
       "    }\n",
       "\n",
       "    .dataframe thead th {\n",
       "        text-align: right;\n",
       "    }\n",
       "</style>\n",
       "<table border=\"1\" class=\"dataframe\">\n",
       "  <thead>\n",
       "    <tr style=\"text-align: right;\">\n",
       "      <th></th>\n",
       "      <th>system:index</th>\n",
       "      <th>CA</th>\n",
       "      <th>CB</th>\n",
       "      <th>CS</th>\n",
       "      <th>latitude</th>\n",
       "      <th>longitude</th>\n",
       "      <th>.geo</th>\n",
       "    </tr>\n",
       "  </thead>\n",
       "  <tbody>\n",
       "    <tr>\n",
       "      <th>0</th>\n",
       "      <td>0</td>\n",
       "      <td>50.765.053</td>\n",
       "      <td>12.045.225</td>\n",
       "      <td>6</td>\n",
       "      <td>-7.496.441.045.977.400</td>\n",
       "      <td>11.065.896.827.426.300</td>\n",
       "      <td>{\"geodesic\":false,\"type\":\"Point\",\"coordinates\"...</td>\n",
       "    </tr>\n",
       "    <tr>\n",
       "      <th>1</th>\n",
       "      <td>1</td>\n",
       "      <td>46.980.125</td>\n",
       "      <td>11.828.725</td>\n",
       "      <td>5</td>\n",
       "      <td>-7.487.457.893.136.210</td>\n",
       "      <td>1.106.050.693.572.160</td>\n",
       "      <td>{\"geodesic\":false,\"type\":\"Point\",\"coordinates\"...</td>\n",
       "    </tr>\n",
       "    <tr>\n",
       "      <th>2</th>\n",
       "      <td>2</td>\n",
       "      <td>463.192</td>\n",
       "      <td>11.608.475</td>\n",
       "      <td>5</td>\n",
       "      <td>-7.487.457.893.136.210</td>\n",
       "      <td>11.061.405.251.005.700</td>\n",
       "      <td>{\"geodesic\":false,\"type\":\"Point\",\"coordinates\"...</td>\n",
       "    </tr>\n",
       "    <tr>\n",
       "      <th>3</th>\n",
       "      <td>3</td>\n",
       "      <td>35.962.925</td>\n",
       "      <td>88.882</td>\n",
       "      <td>5</td>\n",
       "      <td>-7.487.457.893.136.210</td>\n",
       "      <td>11.062.303.566.289.800</td>\n",
       "      <td>{\"geodesic\":false,\"type\":\"Point\",\"coordinates\"...</td>\n",
       "    </tr>\n",
       "    <tr>\n",
       "      <th>4</th>\n",
       "      <td>4</td>\n",
       "      <td>33.521.976</td>\n",
       "      <td>831.685</td>\n",
       "      <td>5</td>\n",
       "      <td>-7.487.457.893.136.210</td>\n",
       "      <td>11.063.201.881.573.900</td>\n",
       "      <td>{\"geodesic\":false,\"type\":\"Point\",\"coordinates\"...</td>\n",
       "    </tr>\n",
       "  </tbody>\n",
       "</table>\n",
       "</div>"
      ],
      "text/plain": [
       "   system:index          CA          CB  CS                latitude  \\\n",
       "0             0  50.765.053  12.045.225   6  -7.496.441.045.977.400   \n",
       "1             1  46.980.125  11.828.725   5  -7.487.457.893.136.210   \n",
       "2             2     463.192  11.608.475   5  -7.487.457.893.136.210   \n",
       "3             3  35.962.925      88.882   5  -7.487.457.893.136.210   \n",
       "4             4  33.521.976     831.685   5  -7.487.457.893.136.210   \n",
       "\n",
       "                longitude                                               .geo  \n",
       "0  11.065.896.827.426.300  {\"geodesic\":false,\"type\":\"Point\",\"coordinates\"...  \n",
       "1   1.106.050.693.572.160  {\"geodesic\":false,\"type\":\"Point\",\"coordinates\"...  \n",
       "2  11.061.405.251.005.700  {\"geodesic\":false,\"type\":\"Point\",\"coordinates\"...  \n",
       "3  11.062.303.566.289.800  {\"geodesic\":false,\"type\":\"Point\",\"coordinates\"...  \n",
       "4  11.063.201.881.573.900  {\"geodesic\":false,\"type\":\"Point\",\"coordinates\"...  "
      ]
     },
     "execution_count": 5,
     "metadata": {},
     "output_type": "execute_result"
    }
   ],
   "source": [
    "carbon_df = pd.read_csv('City_Carbon_Stock.csv', sep=';')\n",
    "carbon_df.head()"
   ]
  },
  {
   "cell_type": "code",
   "execution_count": null,
   "metadata": {},
   "outputs": [],
   "source": []
  }
 ],
 "metadata": {
  "kernelspec": {
   "display_name": "Python 3",
   "language": "python",
   "name": "python3"
  },
  "language_info": {
   "codemirror_mode": {
    "name": "ipython",
    "version": 3
   },
   "file_extension": ".py",
   "mimetype": "text/x-python",
   "name": "python",
   "nbconvert_exporter": "python",
   "pygments_lexer": "ipython3",
   "version": "3.12.2"
  }
 },
 "nbformat": 4,
 "nbformat_minor": 4
}
